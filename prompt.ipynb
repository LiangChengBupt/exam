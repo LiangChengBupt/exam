{
 "cells": [
  {
   "cell_type": "code",
   "execution_count": 1,
   "metadata": {},
   "outputs": [],
   "source": [
    "from gpt4 import query_gpt\n"
   ]
  },
  {
   "cell_type": "code",
   "execution_count": 2,
   "metadata": {},
   "outputs": [],
   "source": [
    "keyword = \"骨折\"\n",
    "query_num = 5\n",
    "prompt = f\"\"\"\n",
    "        I want to construct a medical dataset by searching the web.\n",
    "        {keyword} is the keyword for searching medical biology information.\n",
    "        Please generate {query_num} search querys for this keyword.\n",
    "        Respond with the format of[query1 , query2, ...] directly, DO NOT EXPLAIN.\n",
    "        \"\"\""
   ]
  },
  {
   "cell_type": "code",
   "execution_count": 3,
   "metadata": {},
   "outputs": [],
   "source": [
    "res = query_gpt(prompt)"
   ]
  },
  {
   "cell_type": "code",
   "execution_count": 8,
   "metadata": {},
   "outputs": [],
   "source": [
    "res  = '[\"医学 latest research\", \"医学 breakthroughs\", \"医学 studies 2022\", \"医学 journals and publications\", \"医学 clinical trials results\"]'\n",
    "import ast\n",
    "try:\n",
    "    res_list = ast.literal_eval(res)\n",
    "except:\n",
    "    print(res)"
   ]
  },
  {
   "cell_type": "code",
   "execution_count": 9,
   "metadata": {},
   "outputs": [
    {
     "data": {
      "text/plain": [
       "['医学 latest research',\n",
       " '医学 breakthroughs',\n",
       " '医学 studies 2022',\n",
       " '医学 journals and publications',\n",
       " '医学 clinical trials results']"
      ]
     },
     "execution_count": 9,
     "metadata": {},
     "output_type": "execute_result"
    }
   ],
   "source": [
    "res_list"
   ]
  },
  {
   "cell_type": "code",
   "execution_count": null,
   "metadata": {},
   "outputs": [],
   "source": []
  }
 ],
 "metadata": {
  "kernelspec": {
   "display_name": "liangc",
   "language": "python",
   "name": "python3"
  },
  "language_info": {
   "codemirror_mode": {
    "name": "ipython",
    "version": 3
   },
   "file_extension": ".py",
   "mimetype": "text/x-python",
   "name": "python",
   "nbconvert_exporter": "python",
   "pygments_lexer": "ipython3",
   "version": "3.10.14"
  }
 },
 "nbformat": 4,
 "nbformat_minor": 2
}
